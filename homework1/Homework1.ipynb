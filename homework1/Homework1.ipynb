{
 "cells": [
  {
   "cell_type": "markdown",
   "id": "1ef78f4b",
   "metadata": {},
   "source": [
    "## 加载数据集"
   ]
  },
  {
   "cell_type": "code",
   "execution_count": 2,
   "id": "2d3884a9",
   "metadata": {},
   "outputs": [
    {
     "name": "stdout",
     "output_type": "stream",
     "text": [
      "Downloading train-images-idx3-ubyte.gz...\n",
      "Downloading t10k-images-idx3-ubyte.gz...\n",
      "Downloading train-labels-idx1-ubyte.gz...\n",
      "Downloading t10k-labels-idx1-ubyte.gz...\n",
      "Download complete.\n",
      "Save complete.\n"
     ]
    }
   ],
   "source": [
    "import numpy as np\n",
    "from urllib import request\n",
    "import gzip\n",
    "import pickle\n",
    "\n",
    "filename = [\n",
    "[\"training_images\",\"train-images-idx3-ubyte.gz\"],\n",
    "[\"test_images\",\"t10k-images-idx3-ubyte.gz\"],\n",
    "[\"training_labels\",\"train-labels-idx1-ubyte.gz\"],\n",
    "[\"test_labels\",\"t10k-labels-idx1-ubyte.gz\"]\n",
    "]\n",
    "\n",
    "def download_mnist():\n",
    "    base_url = \"http://yann.lecun.com/exdb/mnist/\"\n",
    "    for name in filename:\n",
    "        print(\"Downloading \"+name[1]+\"...\")\n",
    "        request.urlretrieve(base_url+name[1], \"../datasets/\" + name[1])\n",
    "    print(\"Download complete.\")\n",
    "\n",
    "def save_mnist():\n",
    "    mnist = {}\n",
    "    for name in filename[:2]:\n",
    "        with gzip.open(\"../datasets/\" + name[1], 'rb') as f:\n",
    "            mnist[name[0]] = np.frombuffer(f.read(), np.uint8, offset=16).reshape(-1,28*28)\n",
    "    for name in filename[-2:]:\n",
    "        with gzip.open(\"../datasets/\" + name[1], 'rb') as f:\n",
    "            mnist[name[0]] = np.frombuffer(f.read(), np.uint8, offset=8)\n",
    "    with open(\"../datasets/\" + \"mnist.pkl\", 'wb') as f:\n",
    "        pickle.dump(mnist,f)\n",
    "    print(\"Save complete.\")\n",
    "\n",
    "def init_mnist():\n",
    "    download_mnist()\n",
    "    save_mnist()\n",
    "    \n",
    "init_mnist()"
   ]
  },
  {
   "cell_type": "markdown",
   "id": "dfecb82f",
   "metadata": {},
   "source": [
    "## 划分训练测试集"
   ]
  },
  {
   "cell_type": "code",
   "execution_count": 6,
   "id": "6f5522e2",
   "metadata": {},
   "outputs": [],
   "source": [
    "# 获取MNIST数据集\n",
    "data_path = r'../datasets/mnist.pkl'\n",
    "def load_data(data_path):\n",
    "    with open(data_path, \"rb\") as f:\n",
    "        data = pickle.load(f)\n",
    "    return data\n",
    "data = load_data(data_path)"
   ]
  },
  {
   "cell_type": "code",
   "execution_count": 9,
   "id": "98ab93d6",
   "metadata": {},
   "outputs": [],
   "source": [
    "X_train, X_test, y_train, y_test = data['training_images'], data['test_images'], data['training_labels'], data['test_labels'], "
   ]
  },
  {
   "cell_type": "code",
   "execution_count": 11,
   "id": "640b4a4b",
   "metadata": {},
   "outputs": [
    {
     "data": {
      "text/plain": [
       "((60000, 784), (10000, 784))"
      ]
     },
     "execution_count": 11,
     "metadata": {},
     "output_type": "execute_result"
    }
   ],
   "source": [
    "X_train.shape, X_test.shape"
   ]
  },
  {
   "cell_type": "markdown",
   "id": "df9ea057",
   "metadata": {},
   "source": [
    "## 对数据进行标准化、归一化"
   ]
  },
  {
   "cell_type": "code",
   "execution_count": 13,
   "id": "4f2f7f38",
   "metadata": {},
   "outputs": [],
   "source": [
    "X_train = X_train /  255.0\n",
    "X_test = X_test / 255.0\n",
    "\n",
    "X_train = (X_train - X_train.mean()) / X_train.std()\n",
    "X_test = (X_test - X_test.mean()) / X_test.std()"
   ]
  },
  {
   "cell_type": "code",
   "execution_count": 16,
   "id": "01bf49b0",
   "metadata": {},
   "outputs": [
    {
     "data": {
      "text/plain": [
       "array([5, 0, 4, ..., 5, 6, 8], dtype=uint8)"
      ]
     },
     "execution_count": 16,
     "metadata": {},
     "output_type": "execute_result"
    }
   ],
   "source": [
    "y_train"
   ]
  },
  {
   "cell_type": "markdown",
   "id": "dad5be5f",
   "metadata": {},
   "source": [
    "## 标签独热编码"
   ]
  },
  {
   "cell_type": "code",
   "execution_count": 17,
   "id": "f9feff21",
   "metadata": {},
   "outputs": [],
   "source": [
    "def one_hot_encoding(labels, num_classes):\n",
    "    one_hot_labels = []\n",
    "    for label in labels:\n",
    "        one_hot = [0] * num_classes\n",
    "        one_hot[label] = 1\n",
    "        one_hot_labels.append(one_hot)\n",
    "    return one_hot_labels\n",
    "\n",
    "num_classes = 10\n",
    "y_train = one_hot_encoding(y_train , num_classes)\n",
    "y_test = one_hot_encoding(y_test , num_classes)\n",
    "\n",
    "y_train = np.array(y_train)\n",
    "y_test = np.array(y_test)"
   ]
  },
  {
   "cell_type": "markdown",
   "id": "09d17008",
   "metadata": {},
   "source": [
    "## 定义网络结构"
   ]
  },
  {
   "cell_type": "code",
   "execution_count": 24,
   "id": "4fd0bd80",
   "metadata": {},
   "outputs": [],
   "source": [
    "'''\n",
    "input_size = X_train.shape[1]\n",
    "hidden_size_1 = 128\n",
    "hidden_size_2 = 64\n",
    "output_size = num_classes\n",
    "'''\n",
    "hidden_size = [X_train.shape[1], 128, 64, num_classes]"
   ]
  },
  {
   "cell_type": "code",
   "execution_count": 30,
   "id": "26709da0",
   "metadata": {},
   "outputs": [],
   "source": [
    "num_layers = 3\n",
    "W, b = [], []\n",
    "W.append(0), b.append(0) # 下标从1开始，更好对应\n",
    "for i in range(num_layers):\n",
    "    w = np.random.randn(hidden_size[i], hidden_size[i + 1]) / np.sqrt(hidden_size[i])\n",
    "    _b = np.zeros(hidden_size[i + 1])\n",
    "    W.append(w)\n",
    "    b.append(_b)"
   ]
  },
  {
   "cell_type": "code",
   "execution_count": 29,
   "id": "3be46510",
   "metadata": {},
   "outputs": [],
   "source": [
    "class Func:\n",
    "    @staticmethod\n",
    "    def relu(x):\n",
    "        return np.maximum(0, x)\n",
    "\n",
    "    @staticmethod\n",
    "    def softmax(x):\n",
    "        exps = np.exp(x - np.max(x, axis=-1, keepdims=True))\n",
    "        return exps / np.sum(exps, axis=-1, keepdims=True)\n",
    "\n",
    "    @staticmethod\n",
    "    def cross_entropy_loss(y_pred, y_true):\n",
    "        n_samples = y_pred.shape[0]\n",
    "        loss = -np.sum(y_true * np.log(y_pred + 1e-12)) / n_samples\n",
    "        return loss"
   ]
  },
  {
   "cell_type": "code",
   "execution_count": 53,
   "id": "b537b9fb",
   "metadata": {},
   "outputs": [],
   "source": [
    "def train(X, y_true, lr):\n",
    "    global W, b\n",
    "    # 前向传播\n",
    "    Z, A = [], []\n",
    "    Z.append(0), A.append(X) # 下标从1开始。A[0]其实就是输入X\n",
    "    for i in range(1, num_layers + 1):\n",
    "        z = np.dot(A[i - 1], W[i]) + b[i]\n",
    "        a = Func.relu(z)\n",
    "        Z.append(z)\n",
    "        A.append(a)\n",
    "    batch_size = y_true.shape[0]\n",
    "    y_pred = Func.softmax(Z[3])\n",
    "    Loss = Func.cross_entropy_loss(y_pred, y_true)\n",
    "    \n",
    "    gred_y_pred = y_pred - y_true  # 对z3(也就是没过softmax函数输出的梯度)\n",
    "    gred_W, gred_b = [], []\n",
    "    gred_W.append(0)\n",
    "    gred_b.append(0)  # 为了下标从1开始\n",
    "    # W3, b3\n",
    "    gred_W3 = 1.0 / batch_size * np.dot(A[2].T, gred_y_pred) \n",
    "    gred_b3 = 1.0 / batch_size * np.sum(gred_y_pred, axis=0)\n",
    "    \n",
    "    # a2, z2, W2, b2\n",
    "    gred_a2 = np.dot(gred_y_pred, W[3].T)\n",
    "    gred_z2 = gred_a2.copy()\n",
    "    gred_z2[Z[2] < 0] = 0\n",
    "    gred_W2 = 1.0 / batch_size * np.dot(A[1].T, gred_z2) \n",
    "    gred_b2 = 1.0 / batch_size * np.sum(gred_z2, axis=0)\n",
    "    \n",
    "    # a1, z1, W1, b1\n",
    "    gred_a1 = np.dot(gred_z2, W[2].T)\n",
    "    gred_z1 = gred_a1.copy()\n",
    "    gred_z1[Z[1] < 0] = 0\n",
    "    gred_W1 = 1.0 / batch_size * np.dot(X.T, gred_z1) \n",
    "    gred_b1 = 1.0 / batch_size * np.sum(gred_z1, axis=0)\n",
    "    # 单纯为了放在一起方便观察\n",
    "    gred_W.append(gred_W1)\n",
    "    gred_W.append(gred_W2) \n",
    "    gred_W.append(gred_W3) \n",
    "    gred_b.append(gred_b1)\n",
    "    gred_b.append(gred_b2) \n",
    "    gred_b.append(gred_b3) \n",
    "    for i in range(num_layers):\n",
    "        W[i] -= lr * gred_W[i]\n",
    "        b[i] -= lr * gred_b[i]\n",
    "        \n",
    "    return Loss"
   ]
  },
  {
   "cell_type": "code",
   "execution_count": 39,
   "id": "4f016635",
   "metadata": {},
   "outputs": [],
   "source": [
    "def forward(X):\n",
    "    global W, b\n",
    "    z1 = np.dot(X, W[1]) + b[1]\n",
    "    a1 = Func.relu(z1)\n",
    "    z2 = np.dot(a1, W[2]) + b[2]\n",
    "    a2 = Func.relu(z2)\n",
    "    z3 = np.dot(a2, W[3]) + b[3]\n",
    "    y_pred = Func.softmax(z3)\n",
    "    return np.argmax(y_pred, axis=1)"
   ]
  },
  {
   "cell_type": "code",
   "execution_count": 64,
   "id": "6f0718d9",
   "metadata": {},
   "outputs": [
    {
     "data": {
      "text/plain": [
       "array([0, 2, 3, 4, 1])"
      ]
     },
     "execution_count": 64,
     "metadata": {},
     "output_type": "execute_result"
    }
   ],
   "source": [
    "np.random.permutation(5)"
   ]
  },
  {
   "cell_type": "code",
   "execution_count": 55,
   "id": "9777e1a8",
   "metadata": {},
   "outputs": [
    {
     "name": "stdout",
     "output_type": "stream",
     "text": [
      "Epoch 1/25, train loss: 0.227798, train acc: 0.975617, test acc: 0.968100\n",
      "Epoch 2/25, train loss: 0.050497, train acc: 0.982017, test acc: 0.972200\n",
      "Epoch 3/25, train loss: 0.160170, train acc: 0.986117, test acc: 0.976500\n",
      "Epoch 4/25, train loss: 0.041776, train acc: 0.987150, test acc: 0.975300\n",
      "Epoch 5/25, train loss: 0.005422, train acc: 0.991233, test acc: 0.976900\n",
      "Epoch 6/25, train loss: 0.012541, train acc: 0.993450, test acc: 0.977700\n",
      "Epoch 7/25, train loss: 0.011655, train acc: 0.994600, test acc: 0.979100\n",
      "Epoch 8/25, train loss: 0.024442, train acc: 0.995283, test acc: 0.977500\n",
      "Epoch 9/25, train loss: 0.009057, train acc: 0.996883, test acc: 0.980300\n",
      "Epoch 10/25, train loss: 0.009868, train acc: 0.997000, test acc: 0.979100\n",
      "Epoch 11/25, train loss: 0.003430, train acc: 0.997750, test acc: 0.978800\n",
      "Epoch 12/25, train loss: 0.019164, train acc: 0.998917, test acc: 0.979000\n",
      "Epoch 13/25, train loss: 0.011055, train acc: 0.999267, test acc: 0.980100\n",
      "Epoch 14/25, train loss: 0.010666, train acc: 0.999617, test acc: 0.980700\n",
      "Epoch 15/25, train loss: 0.003935, train acc: 0.999750, test acc: 0.979100\n",
      "Epoch 16/25, train loss: 0.000534, train acc: 0.999817, test acc: 0.980500\n",
      "Epoch 17/25, train loss: 0.001218, train acc: 0.999850, test acc: 0.980300\n",
      "Epoch 18/25, train loss: 0.003549, train acc: 0.999967, test acc: 0.980000\n",
      "Epoch 19/25, train loss: 0.006538, train acc: 0.999950, test acc: 0.979700\n",
      "Epoch 20/25, train loss: 0.004811, train acc: 0.999933, test acc: 0.979200\n",
      "Epoch 21/25, train loss: 0.001387, train acc: 1.000000, test acc: 0.980300\n",
      "Epoch 22/25, train loss: 0.001139, train acc: 1.000000, test acc: 0.980500\n",
      "Epoch 23/25, train loss: 0.000179, train acc: 1.000000, test acc: 0.979900\n",
      "Epoch 24/25, train loss: 0.004014, train acc: 1.000000, test acc: 0.980200\n",
      "Epoch 25/25, train loss: 0.001987, train acc: 1.000000, test acc: 0.980200\n"
     ]
    }
   ],
   "source": [
    "learning_rate = 0.1\n",
    "num_epochs = 25\n",
    "batch_size = 64\n",
    "num_batches = X_train.shape[0] // batch_size\n",
    "\n",
    "train_loss_history = []\n",
    "train_acc_history = []\n",
    "test_acc_history = []\n",
    "for epoch in range(num_epochs):\n",
    "    # 在每个epoch前随机打乱训练数据\n",
    "    permutation = np.random.permutation(X_train.shape[0])\n",
    "    X_train = X_train[permutation]\n",
    "    y_train = y_train[permutation]\n",
    "    for i in range(num_batches):\n",
    "        # 从训练数据中随机抽取一个batch\n",
    "        X_batch = X_train[i * batch_size:(i + 1) * batch_size]\n",
    "        y_batch = y_train[i * batch_size:(i + 1) * batch_size]\n",
    "\n",
    "        # 训练一个batch，并记录损失函数值\n",
    "        loss = train(X_batch, y_batch, learning_rate)\n",
    "        train_loss_history.append(loss)\n",
    "\n",
    "    # 计算训练集和测试集上的精度\n",
    "    train_acc = np.mean(forward(X_train) == np.argmax(y_train, axis=-1))\n",
    "    test_acc = np.mean(forward(X_test) == np.argmax(y_test, axis=-1))\n",
    "    train_acc_history.append(train_acc)\n",
    "    test_acc_history.append(test_acc)\n",
    "\n",
    "    # 输出训练进度\n",
    "    print('Epoch %d/%d, train loss: %f, train acc: %f, test acc: %f' % (epoch+1, num_epochs, loss, train_acc, test_acc))"
   ]
  },
  {
   "cell_type": "code",
   "execution_count": 56,
   "id": "e6cc5c63",
   "metadata": {},
   "outputs": [
    {
     "data": {
      "image/png": "[encoded data removed]",
      "text/plain": [
       "<Figure size 432x288 with 1 Axes>"
      ]
     },
     "metadata": {
      "needs_background": "light"
     },
     "output_type": "display_data"
    },
    {
     "data": {
      "image/png": "[encoded data removed]",
      "text/plain": [
       "<Figure size 432x288 with 1 Axes>"
      ]
     },
     "metadata": {
      "needs_background": "light"
     },
     "output_type": "display_data"
    }
   ],
   "source": [
    "import matplotlib.pyplot as plt\n",
    "plt.plot(train_loss_history)\n",
    "plt.title('Training Loss')\n",
    "plt.xlabel('Iteration')\n",
    "plt.ylabel('Loss')\n",
    "plt.show()\n",
    "\n",
    "plt.plot(train_acc_history, label='train')\n",
    "plt.plot(test_acc_history, label='test')\n",
    "plt.title('Classification Accuracy(backbone:784-128-64-10)')\n",
    "plt.xlabel('Epoch')\n",
    "plt.ylabel('Accuracy')\n",
    "plt.legend()\n",
    "plt.savefig('backbone.png')\n",
    "plt.show()"
   ]
  },
  {
   "cell_type": "code",
   "execution_count": null,
   "id": "29b2c0c2",
   "metadata": {},
   "outputs": [],
   "source": []
  },
  {
   "cell_type": "code",
   "execution_count": null,
   "id": "793f9329",
   "metadata": {},
   "outputs": [],
   "source": []
  },
  {
   "cell_type": "code",
   "execution_count": null,
   "id": "8dad0d82",
   "metadata": {},
   "outputs": [],
   "source": []
  }
 ],
 "metadata": {
  "kernelspec": {
   "display_name": "Python 3",
   "language": "python",
   "name": "python3"
  },
  "language_info": {
   "codemirror_mode": {
    "name": "ipython",
    "version": 3
   },
   "file_extension": ".py",
   "mimetype": "text/x-python",
   "name": "python",
   "nbconvert_exporter": "python",
   "pygments_lexer": "ipython3",
   "version": "3.8.8"
  }
 },
 "nbformat": 4,
 "nbformat_minor": 5
}
